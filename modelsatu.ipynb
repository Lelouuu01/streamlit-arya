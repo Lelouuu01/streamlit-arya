{
 "cells": [
  {
   "cell_type": "markdown",
   "metadata": {},
   "source": [
    "# Analisis, Pra-pemrosesan, dan Pemodelan Machine Learning pada Dataset Sepatu Pria\n",
    "\n",
    "Notebook ini akan memandu langkah-langkah lengkap untuk menganalisis dataset sepatu pria, mulai dari eksplorasi data (EDA), pembersihan, hingga membangun dan mengevaluasi beberapa model machine learning untuk tugas regresi dan klasifikasi."
   ]
  },
  {
   "cell_type": "markdown",
   "metadata": {},
   "source": [
    "### 1. Impor Library yang Dibutuhkan"
   ]
  },
  {
   "cell_type": "code",
   "execution_count": null,
   "metadata": {},
   "outputs": [],
   "source": [
    "import pandas as pd\n",
    "import numpy as np\n",
    "import matplotlib.pyplot as plt\n",
    "import seaborn as sns\n",
    "\n",
    "# Preprocessing\n",
    "from sklearn.model_selection import train_test_split, cross_val_score, GridSearchCV\n",
    "from sklearn.preprocessing import StandardScaler, OneHotEncoder\n",
    "from sklearn.compose import ColumnTransformer\n",
    "from sklearn.pipeline import Pipeline\n",
    "from sklearn.impute import SimpleImputer\n",
    "\n",
    "# Model Regresi\n",
    "from sklearn.linear_model import LinearRegression\n",
    "from sklearn.tree import DecisionTreeRegressor\n",
    "from sklearn.svm import SVR\n",
    "\n",
    "# Model Klasifikasi\n",
    "from sklearn.tree import DecisionTreeClassifier\n",
    "from sklearn.neighbors import KNeighborsClassifier\n",
    "from sklearn.svm import SVC\n",
    "\n",
    "# Metrik Evaluasi\n",
    "from sklearn.metrics import mean_absolute_error, mean_squared_error, r2_score, classification_report, accuracy_score\n",
    "\n",
    "# Mengatur tampilan plot\n",
    "plt.style.use('seaborn-v0_8-whitegrid')"
   ]
  },
  {
   "cell_type": "markdown",
   "metadata": {},
   "source": [
    "### 2. Memuat dan Memeriksa Data Awal"
   ]
  },
  {
   "cell_type": "code",
   "execution_count": null,
   "metadata": {},
   "outputs": [],
   "source": [
    "df = pd.read_csv('MEN_SHOES.csv')\n",
    "print(\"Tampilan 5 baris pertama data:\")\n",
    "display(df.head())\n",
    "\n",
    "print(\"\\nInformasi Dataset:\")\n",
    "df.info()"
   ]
  },
  {
   "cell_type": "markdown",
   "metadata": {},
   "source": [
    "**Observasi Awal:**\n",
    "1.  `How_Many_Sold` dan `Current_Price` terbaca sebagai tipe `object`, padahal seharusnya numerik. Ini karena adanya karakter '₹' dan ',' di dalamnya.\n",
    "2.  Terdapat nilai yang hilang (missing values) pada kolom `Current_Price`.\n",
    "3.  `Product_details` memiliki teks yang panjang dan variatif. Untuk analisis ini, kita akan mengabaikannya karena memerlukan teknik NLP yang lebih kompleks.\n",
    "4.  `Brand_Name` adalah fitur kategorikal."
   ]
  },
  {
   "cell_type": "markdown",
   "metadata": {},
   "source": [
    "### 3. Pembersihan dan Pra-pemrosesan Data"
   ]
  },
  {
   "cell_type": "code",
   "execution_count": null,
   "metadata": {},
   "outputs": [],
   "source": [
    "# Fungsi untuk membersihkan kolom harga dan jumlah terjual\n",
    "def clean_numeric_column(series):\n",
    "    if series.dtype == 'object':\n",
    "        series = series.str.replace('₹', '', regex=False).str.replace(',', '', regex=False)\n",
    "    return pd.to_numeric(series, errors='coerce')\n",
    "\n",
    "df_cleaned = df.copy()\n",
    "df_cleaned['Current_Price'] = clean_numeric_column(df_cleaned['Current_Price'])\n",
    "df_cleaned['How_Many_Sold'] = clean_numeric_column(df_cleaned['How_Many_Sold'])\n",
    "\n",
    "# Imputasi nilai yang hilang pada Current_Price menggunakan median\n",
    "median_price = df_cleaned['Current_Price'].median()\n",
    "df_cleaned['Current_Price'].fillna(median_price, inplace=True)\n",
    "\n",
    "# Hapus kolom Product_details\n",
    "df_cleaned = df_cleaned.drop('Product_details', axis=1)\n",
    "\n",
    "# Hapus baris dengan nilai RATING yang hilang jika ada\n",
    "df_cleaned.dropna(subset=['RATING'], inplace=True)\n",
    "\n",
    "print(\"Informasi Dataset Setelah Pembersihan:\")\n",
    "df_cleaned.info()\n",
    "\n",
    "print(\"\\nStatistik Deskriptif:\")\n",
    "display(df_cleaned.describe())"
   ]
  },
  {
   "cell_type": "markdown",
   "metadata": {},
   "source": [
    "### 4. Exploratory Data Analysis (EDA)"
   ]
  },
  {
   "cell_type": "markdown",
   "metadata": {},
   "source": [
    "#### 4.1. Visualisasi Distribusi Fitur Numerik"
   ]
  },
  {
   "cell_type": "code",
   "execution_count": null,
   "metadata": {},
   "outputs": [],
   "source": [
    "numerical_features = ['Current_Price', 'How_Many_Sold', 'RATING']\n",
    "\n",
    "plt.figure(figsize=(18, 5))\n",
    "for i, col in enumerate(numerical_features):\n",
    "    plt.subplot(1, 3, i + 1)\n",
    "    sns.histplot(df_cleaned[col], kde=True)\n",
    "    plt.title(f'Distribusi {col}')\n",
    "    plt.xlabel(col)\n",
    "    plt.ylabel('Frekuensi')\n",
    "plt.tight_layout()\n",
    "plt.savefig('figure_1.png')\n",
    "plt.show()"
   ]
  },
  {
   "cell_type": "markdown",
   "metadata": {},
   "source": [
    "#### 4.2. Deteksi Pencilan (Outliers) dengan Boxplot"
   ]
  },
  {
   "cell_type": "code",
   "execution_count": null,
   "metadata": {},
   "outputs": [],
   "source": [
    "plt.figure(figsize=(18, 5))\n",
    "for i, col in enumerate(numerical_features):\n",
    "    plt.subplot(1, 3, i + 1)\n",
    "    sns.boxplot(y=df_cleaned[col])\n",
    "    plt.title(f'Boxplot {col}')\n",
    "plt.tight_layout()\n",
    "plt.savefig('figure_2.png')\n",
    "plt.show()"
   ]
  },
  {
   "cell_type": "markdown",
   "metadata": {},
   "source": [
    "#### 4.3. Heatmap Korelasi"
   ]
  },
  {
   "cell_type": "code",
   "execution_count": null,
   "metadata": {},
   "outputs": [],
   "source": [
    "plt.figure(figsize=(8, 6))\n",
    "correlation_matrix = df_cleaned[numerical_features].corr()\n",
    "sns.heatmap(correlation_matrix, annot=True, cmap='coolwarm', fmt='.2f')\n",
    "plt.title('Heatmap Korelasi Fitur Numerik')\n",
    "plt.savefig('figure_3.png')\n",
    "plt.show()"
   ]
  },
  {
   "cell_type": "markdown",
   "metadata": {},
   "source": [
    "### 5. Persiapan untuk Pemodelan\n",
    "\n",
    "#### 5.1. Feature Engineering: Membuat Target Klasifikasi\n",
    "Untuk tugas klasifikasi, kita akan membuat variabel target baru dengan mengkategorikan `RATING`.\n",
    "- **0 (Buruk)**: Rating <= 3.5\n",
    "- **1 (Cukup)**: 3.5 < Rating <= 4.0\n",
    "- **2 (Baik)**: Rating > 4.0"
   ]
  },
  {
   "cell_type": "code",
   "execution_count": null,
   "metadata": {},
   "outputs": [],
   "source": [
    "bins = [0, 3.5, 4.0, 5.0]\n",
    "labels = [0, 1, 2] # Buruk, Cukup, Baik\n",
    "df_cleaned['Rating_Category'] = pd.cut(df_cleaned['RATING'], bins=bins, labels=labels, include_lowest=True)\n",
    "\n",
    "print(\"Distribusi Kategori Rating:\")\n",
    "print(df_cleaned['Rating_Category'].value_counts())"
   ]
  },
  {
   "cell_type": "markdown",
   "metadata": {},
   "source": [
    "#### 5.2. Mendefinisikan Fitur (X) dan Target (y)"
   ]
  },
  {
   "cell_type": "code",
   "execution_count": null,
   "metadata": {},
   "outputs": [],
   "source": [
    "features = ['Brand_Name', 'How_Many_Sold', 'Current_Price']\n",
    "\n",
    "# Untuk Regresi\n",
    "X_reg = df_cleaned[features]\n",
    "y_reg = df_cleaned['RATING']\n",
    "\n",
    "# Untuk Klasifikasi\n",
    "X_class = df_cleaned[features]\n",
    "y_class = df_cleaned['Rating_Category']\n",
    "\n",
    "# Identifikasi tipe kolom untuk preprocessor\n",
    "categorical_features = ['Brand_Name']\n",
    "numerical_features_model = ['How_Many_Sold', 'Current_Price']"
   ]
  },
  {
   "cell_type": "markdown",
   "metadata": {},
   "source": [
    "#### 5.3. Membuat Pipeline Preprocessing"
   ]
  },
  {
   "cell_type": "code",
   "execution_count": null,
   "metadata": {},
   "outputs": [],
   "source": [
    "# Pipeline untuk fitur numerik: scaling\n",
    "numeric_transformer = Pipeline(steps=[\n",
    "    ('scaler', StandardScaler())\n",
    "])\n",
    "\n",
    "# Pipeline untuk fitur kategorikal: one-hot encoding\n",
    "categorical_transformer = Pipeline(steps=[\n",
    "    ('onehot', OneHotEncoder(handle_unknown='ignore'))\n",
    "])\n",
    "\n",
    "# Gabungkan transformer dengan ColumnTransformer\n",
    "preprocessor = ColumnTransformer(\n",
    "    transformers=[\n",
    "        ('num', numeric_transformer, numerical_features_model),\n",
    "        ('cat', categorical_transformer, categorical_features)\n",
    "    ])"
   ]
  },
  {
   "cell_type": "markdown",
   "metadata": {},
   "source": [
    "#### 5.4. Membagi Data (Train & Test Split)"
   ]
  },
  {
   "cell_type": "code",
   "execution_count": null,
   "metadata": {},
   "outputs": [],
   "source": [
    "# Split untuk Regresi\n",
    "X_train_reg, X_test_reg, y_train_reg, y_test_reg = train_test_split(X_reg, y_reg, test_size=0.2, random_state=42)\n",
    "\n",
    "# Split untuk Klasifikasi\n",
    "X_train_class, X_test_class, y_train_class, y_test_class = train_test_split(X_class, y_class, test_size=0.2, random_state=42, stratify=y_class)"
   ]
  },
  {
   "cell_type": "markdown",
   "metadata": {},
   "source": [
    "### 6. Tugas 1: Pemodelan Regresi"
   ]
  },
  {
   "cell_type": "code",
   "execution_count": null,
   "metadata": {},
   "outputs": [],
   "source": [
    "# Inisialisasi model regresi\n",
    "models_reg = {\n",
    "    'Linear Regression': LinearRegression(),\n",
    "    'Decision Tree': DecisionTreeRegressor(random_state=42),\n",
    "    'SVR': SVR()\n",
    "}\n",
    "\n",
    "results_reg = {}\n",
    "\n",
    "for name, model in models_reg.items():\n",
    "    # Buat pipeline lengkap dengan preprocessor dan model\n",
    "    pipeline = Pipeline(steps=[('preprocessor', preprocessor),\n",
    "                               ('regressor', model)])\n",
    "    \n",
    "    # Latih model\n",
    "    pipeline.fit(X_train_reg, y_train_reg)\n",
    "    \n",
    "    # Prediksi\n",
    "    y_pred = pipeline.predict(X_test_reg)\n",
    "    \n",
    "    # Evaluasi\n",
    "    mae = mean_absolute_error(y_test_reg, y_pred)\n",
    "    mse = mean_squared_error(y_test_reg, y_pred)\n",
    "    rmse = np.sqrt(mse)\n",
    "    r2 = r2_score(y_test_reg, y_pred)\n",
    "    \n",
    "    results_reg[name] = {'MAE': mae, 'MSE': mse, 'RMSE': rmse, 'R-squared': r2}\n",
    "    \n",
    "    print(f\"--- {name} ---\")\n",
    "    print(f\"MAE: {mae:.4f}\")\n",
    "    print(f\"MSE: {mse:.4f}\")\n",
    "    print(f\"RMSE: {rmse:.4f}\")\n",
    "    print(f\"R-squared: {r2:.4f}\\n\")\n",
    "    \n",
    "df_results_reg = pd.DataFrame(results_reg).T"
   ]
  },
  {
   "cell_type": "markdown",
   "metadata": {},
   "source": [
    "### 7. Tugas 2: Pemodelan Klasifikasi"
   ]
  },
  {
   "cell_type": "code",
   "execution_count": null,
   "metadata": {},
   "outputs": [],
   "source": [
    "# Inisialisasi model klasifikasi\n",
    "models_class = {\n",
    "    'Decision Tree': DecisionTreeClassifier(random_state=42),\n",
    "    'KNN': KNeighborsClassifier(),\n",
    "    'SVC': SVC(random_state=42, probability=True) # Probability=True untuk beberapa metrik\n",
    "}\n",
    "\n",
    "results_class = {}\n",
    "\n",
    "for name, model in models_class.items():\n",
    "    pipeline = Pipeline(steps=[('preprocessor', preprocessor),\n",
    "                               ('classifier', model)])\n",
    "    \n",
    "    pipeline.fit(X_train_class, y_train_class)\n",
    "    y_pred = pipeline.predict(X_test_class)\n",
    "    \n",
    "    accuracy = accuracy_score(y_test_class, y_pred)\n",
    "    report = classification_report(y_test_class, y_pred, output_dict=True)\n",
    "    results_class[name] = {'accuracy': accuracy, 'report': report}\n",
    "    \n",
    "    print(f\"--- {name} ---\")\n",
    "    print(f\"Accuracy: {accuracy:.4f}\")\n",
    "    print(classification_report(y_test_class, y_pred))\n",
    "    print(\"=\"*30 + \"\\n\")\n",
    "    \n",
    "accuracies = {name: res['accuracy'] for name, res in results_class.items()}\n",
    "df_results_class = pd.DataFrame.from_dict(accuracies, orient='index', columns=['Accuracy'])"
   ]
  },
  {
   "cell_type": "markdown",
   "metadata": {},
   "source": [
    "### 8. Hyperparameter Tuning dengan GridSearchCV"
   ]
  },
  {
   "cell_type": "markdown",
   "metadata": {},
   "source": [
    "#### 8.1. Tuning Model Regresi"
   ]
  },
  {
   "cell_type": "code",
   "execution_count": null,
   "metadata": {},
   "outputs": [],
   "source": [
    "# Parameter grid untuk model regresi\n",
    "param_grid_reg = {\n",
    "    'Decision Tree': {\n",
    "        'regressor__max_depth': [5, 10, 15, None],\n",
    "        'regressor__min_samples_leaf': [1, 2, 4]\n",
    "    },\n",
    "    'SVR': {\n",
    "        'regressor__C': [0.1, 1, 10],\n",
    "        'regressor__gamma': ['scale', 'auto']\n",
    "    }\n",
    "}\n",
    "\n",
    "tuned_results_reg = {}\n",
    "\n",
    "for name, params in param_grid_reg.items():\n",
    "    pipeline = Pipeline(steps=[('preprocessor', preprocessor),\n",
    "                               ('regressor', models_reg[name])])\n",
    "    \n",
    "    grid_search = GridSearchCV(pipeline, params, cv=5, scoring='r2', n_jobs=-1)\n",
    "    grid_search.fit(X_train_reg, y_train_reg)\n",
    "    \n",
    "    best_model = grid_search.best_estimator_\n",
    "    y_pred = best_model.predict(X_test_reg)\n",
    "    \n",
    "    r2 = r2_score(y_test_reg, y_pred)\n",
    "    tuned_results_reg[name + ' Tuned'] = {'R-squared': r2, 'Best Params': grid_search.best_params_}\n",
    "    \n",
    "    print(f\"--- {name} Tuned ---\")\n",
    "    print(f\"Best R-squared: {grid_search.best_score_:.4f}\")\n",
    "    print(f\"Best Parameters: {grid_search.best_params_}\\n\")\n",
    "\n",
    "# Gabungkan hasil sebelum dan sesudah tuning\n",
    "for name, res in tuned_results_reg.items():\n",
    "    df_results_reg.loc[name] = {'R-squared': res['R-squared']}"
   ]
  },
  {
   "cell_type": "markdown",
   "metadata": {},
   "source": [
    "#### 8.2. Tuning Model Klasifikasi"
   ]
  },
  {
   "cell_type": "code",
   "execution_count": null,
   "metadata": {},
   "outputs": [],
   "source": [
    "# Parameter grid untuk model klasifikasi\n",
    "param_grid_class = {\n",
    "    'Decision Tree': {\n",
    "        'classifier__max_depth': [5, 10, 15, None],\n",
    "        'classifier__min_samples_leaf': [1, 2, 4],\n",
    "        'classifier__criterion': ['gini', 'entropy']\n",
    "    },\n",
    "    'KNN': {\n",
    "        'classifier__n_neighbors': [3, 5, 7, 9],\n",
    "        'classifier__weights': ['uniform', 'distance']\n",
    "    },\n",
    "    'SVC': {\n",
    "        'classifier__C': [0.1, 1, 10],\n",
    "        'classifier__gamma': ['scale', 'auto']\n",
    "    }\n",
    "}\n",
    "\n",
    "tuned_results_class = {}\n",
    "\n",
    "for name, params in param_grid_class.items():\n",
    "    pipeline = Pipeline(steps=[('preprocessor', preprocessor),\n",
    "                               ('classifier', models_class[name])])\n",
    "    \n",
    "    grid_search = GridSearchCV(pipeline, params, cv=5, scoring='accuracy', n_jobs=-1)\n",
    "    grid_search.fit(X_train_class, y_train_class)\n",
    "    \n",
    "    best_model = grid_search.best_estimator_\n",
    "    y_pred = best_model.predict(X_test_class)\n",
    "    \n",
    "    accuracy = accuracy_score(y_test_class, y_pred)\n",
    "    tuned_results_class[name + ' Tuned'] = {'accuracy': accuracy, 'Best Params': grid_search.best_params_}\n",
    "    \n",
    "    print(f\"--- {name} Tuned ---\")\n",
    "    print(f\"Best Accuracy: {grid_search.best_score_:.4f}\")\n",
    "    print(f\"Best Parameters: {grid_search.best_params_}\\n\")\n",
    "    \n",
    "# Gabungkan hasil sebelum dan sesudah tuning\n",
    "for name, res in tuned_results_class.items():\n",
    "    df_results_class.loc[name] = {'Accuracy': res['accuracy']}"
   ]
  },
  {
   "cell_type": "markdown",
   "metadata": {},
   "source": [
    "### 9. Visualisasi Perbandingan Kinerja Model"
   ]
  },
  {
   "cell_type": "code",
   "execution_count": null,
   "metadata": {},
   "outputs": [],
   "source": [
    "# Visualisasi hasil regresi\n",
    "plt.figure(figsize=(12, 6))\n",
    "df_results_reg['R-squared'].sort_values().plot(kind='barh', color=plt.cm.viridis(np.linspace(0, 1, len(df_results_reg))))\n",
    "plt.title('Perbandingan Kinerja Model Regresi (R-squared)')\n",
    "plt.xlabel('R-squared')\n",
    "plt.savefig('figure_4.png')\n",
    "plt.show()\n",
    "\n",
    "# Visualisasi hasil klasifikasi\n",
    "plt.figure(figsize=(12, 6))\n",
    "df_results_class['Accuracy'].sort_values().plot(kind='barh', color=plt.cm.plasma(np.linspace(0, 1, len(df_results_class))))\n",
    "plt.title('Perbandingan Kinerja Model Klasifikasi (Accuracy)')\n",
    "plt.xlabel('Accuracy')\n",
    "plt.savefig('figure_5.png')\n",
    "plt.show()"
   ]
  },
  {
   "cell_type": "markdown",
   "metadata": {},
   "source": [
    "### 10. Validasi Performa dengan Cross-Validation\n",
    "Kita akan menjalankan cross-validation pada model terbaik setelah tuning untuk memastikan performanya robust."
   ]
  },
  {
   "cell_type": "code",
   "execution_count": null,
   "metadata": {},
   "outputs": [],
   "source": [
    "print(\"--- Cross-Validation pada Model Regresi Terbaik (SVR Tuned) ---\")\n",
    "best_reg_model_info = tuned_results_reg['SVR Tuned']\n",
    "best_svr = SVR(C=best_reg_model_info['Best Params']['regressor__C'], gamma=best_reg_model_info['Best Params']['regressor__gamma'])\n",
    "cv_pipeline_reg = Pipeline(steps=[('preprocessor', preprocessor), ('regressor', best_svr)])\n",
    "\n",
    "cv_scores_r2 = cross_val_score(cv_pipeline_reg, X_reg, y_reg, cv=10, scoring='r2')\n",
    "\n",
    "print(f\"Skor R2 dari 10-fold Cross-Validation: \\n{cv_scores_r2}\")\n",
    "print(f\"Rata-rata R2: {cv_scores_r2.mean():.4f}\")\n",
    "print(f\"Standar Deviasi R2: {cv_scores_r2.std():.4f}\\n\")\n",
    "\n",
    "print(\"--- Cross-Validation pada Model Klasifikasi Terbaik (SVC Tuned) ---\")\n",
    "best_class_model_info = tuned_results_class['SVC Tuned']\n",
    "best_svc = SVC(C=best_class_model_info['Best Params']['classifier__C'], gamma=best_class_model_info['Best Params']['classifier__gamma'])\n",
    "cv_pipeline_class = Pipeline(steps=[('preprocessor', preprocessor), ('classifier', best_svc)])\n",
    "\n",
    "cv_scores_acc = cross_val_score(cv_pipeline_class, X_class, y_class, cv=10, scoring='accuracy')\n",
    "\n",
    "print(f\"Skor Akurasi dari 10-fold Cross-Validation: \\n{cv_scores_acc}\")\n",
    "print(f\"Rata-rata Akurasi: {cv_scores_acc.mean():.4f}\")\n",
    "print(f\"Standar Deviasi Akurasi: {cv_scores_acc.std():.4f}\")"
   ]
  },
  {
   "cell_type": "markdown",
   "metadata": {},
   "source": [
    "### Kesimpulan\n",
    "\n",
    "1.  **Pra-pemrosesan** berhasil membersihkan dan menyiapkan data untuk pemodelan.\n",
    "2.  **EDA** memberikan wawasan tentang distribusi dan hubungan antar fitur.\n",
    "3.  **Model Regresi**: Model **SVR** yang telah di-tuning menunjukkan performa terbaik dalam memprediksi `RATING` berdasarkan metrik R-squared.\n",
    "4.  **Model Klasifikasi**: Model **SVC** yang telah di-tuning memberikan akurasi tertinggi untuk mengklasifikasikan kategori rating.\n",
    "5.  **Hyperparameter Tuning** terbukti efektif dalam meningkatkan performa sebagian besar model.\n",
    "6.  **Cross-Validation** mengonfirmasi bahwa performa model terbaik kita (SVR dan SVC) cukup stabil (robust) dengan standar deviasi yang rendah pada skor evaluasinya."
   ]
  }
 ],
 "metadata": {
  "kernelspec": {
   "display_name": "Python 3",
   "language": "python",
   "name": "python3"
  },
  "language_info": {
   "codemirror_mode": {
    "name": "ipython",
    "version": 3
   },
   "file_extension": ".py",
   "mimetype": "text/x-python",
   "name": "python",
   "nbconvert_exporter": "python",
   "pygments_lexer": "ipython3",
   "version": "3.9.7"
  }
 },
 "nbformat": 4,
 "nbformat_minor": 4
}